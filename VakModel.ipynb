{
  "cells": [
    {
      "cell_type": "code",
      "execution_count": null,
      "id": "d3c075a4",
      "metadata": {
        "id": "d3c075a4"
      },
      "outputs": [],
      "source": [
        "import pandas as pd\n",
        "import numpy as np\n",
        "import matplotlib.pyplot as plt\n",
        "import seaborn as sns\n",
        "import nltk\n",
        "\n",
        "pd.set_option('display.max_columns',None)"
      ]
    },
    {
      "cell_type": "code",
      "execution_count": null,
      "id": "fed15069",
      "metadata": {
        "id": "fed15069"
      },
      "outputs": [],
      "source": [
        "data = pd.read_csv(\"dataset.csv\")"
      ]
    },
    {
      "cell_type": "code",
      "execution_count": null,
      "id": "3414b8f1",
      "metadata": {
        "id": "3414b8f1",
        "outputId": "30e56db2-bafa-4a07-9886-9c01128149dd"
      },
      "outputs": [
        {
          "data": {
            "text/plain": [
              "Sentence    0\n",
              "Type        0\n",
              "dtype: int64"
            ]
          },
          "execution_count": 3,
          "metadata": {},
          "output_type": "execute_result"
        }
      ],
      "source": [
        "data.isnull().sum()"
      ]
    },
    {
      "cell_type": "code",
      "execution_count": null,
      "id": "e41dc8e9",
      "metadata": {
        "id": "e41dc8e9",
        "outputId": "069afab1-3a37-4954-e047-a7b306e19312"
      },
      "outputs": [
        {
          "data": {
            "text/plain": [
              "758"
            ]
          },
          "execution_count": 4,
          "metadata": {},
          "output_type": "execute_result"
        }
      ],
      "source": [
        "data.duplicated().sum()"
      ]
    },
    {
      "cell_type": "code",
      "execution_count": null,
      "id": "1405550e",
      "metadata": {
        "id": "1405550e"
      },
      "outputs": [],
      "source": [
        "data.drop_duplicates(inplace=True,keep=False)"
      ]
    },
    {
      "cell_type": "code",
      "execution_count": null,
      "id": "35bf5162",
      "metadata": {
        "id": "35bf5162"
      },
      "outputs": [],
      "source": [
        "y = data['Type']\n",
        "data = data.drop(['Type'], axis=1)"
      ]
    },
    {
      "cell_type": "code",
      "execution_count": null,
      "id": "631bb261",
      "metadata": {
        "id": "631bb261"
      },
      "outputs": [],
      "source": [
        "from sklearn.preprocessing import LabelEncoder\n",
        "label_enc = LabelEncoder()\n",
        "y = label_enc.fit_transform(y)"
      ]
    },
    {
      "cell_type": "code",
      "execution_count": null,
      "id": "9225297d",
      "metadata": {
        "id": "9225297d"
      },
      "outputs": [],
      "source": [
        "from nltk.stem import WordNetLemmatizer\n",
        "from nltk.corpus import stopwords\n",
        "\n",
        "corpus = []\n",
        "lemmatizer = WordNetLemmatizer()\n",
        "sw = set(stopwords.words('english'))\n",
        "\n",
        "for i in range(len(data.index)):\n",
        "    text = \"\"\n",
        "    for t in data.iloc[i,:]:\n",
        "        t = t.lower()\n",
        "        temp = t.split()\n",
        "        temp = [lemmatizer.lemmatize(word) for word in temp if word not in sw]\n",
        "        t = \" \".join(temp)\n",
        "        text = text + \" \" + t\n",
        "    corpus.append(text)"
      ]
    },
    {
      "cell_type": "code",
      "execution_count": null,
      "id": "8f04351e",
      "metadata": {
        "id": "8f04351e"
      },
      "outputs": [],
      "source": [
        "from sklearn.feature_extraction.text import CountVectorizer, TfidfVectorizer\n",
        "cv = CountVectorizer(max_features=5000, ngram_range=(1,3))\n",
        "tfidf = TfidfVectorizer(max_features=5000, ngram_range=(1,3))"
      ]
    },
    {
      "cell_type": "code",
      "execution_count": null,
      "id": "f583f8e9",
      "metadata": {
        "id": "f583f8e9"
      },
      "outputs": [],
      "source": [
        "X_cv = cv.fit_transform(corpus).toarray()\n",
        "X_tfidf = tfidf.fit_transform(corpus).toarray()"
      ]
    },
    {
      "cell_type": "code",
      "execution_count": null,
      "id": "ef8dc5d3",
      "metadata": {
        "id": "ef8dc5d3"
      },
      "outputs": [],
      "source": [
        "from sklearn.model_selection import train_test_split\n",
        "X_train_cv, X_test_cv, y_train_cv, y_test_cv = train_test_split(X_cv, y, test_size = 0.1)\n",
        "X_train_tfidf, X_test_tfidf, y_train_tfidf, y_test_tfidf = train_test_split(X_tfidf, y, test_size = 0.1)"
      ]
    },
    {
      "cell_type": "code",
      "execution_count": null,
      "id": "9b3e0386",
      "metadata": {
        "id": "9b3e0386",
        "outputId": "884d83d0-84fb-4366-97ba-a89ad907e2d4"
      },
      "outputs": [
        {
          "data": {
            "text/html": [
              "<style>#sk-container-id-1 {color: black;background-color: white;}#sk-container-id-1 pre{padding: 0;}#sk-container-id-1 div.sk-toggleable {background-color: white;}#sk-container-id-1 label.sk-toggleable__label {cursor: pointer;display: block;width: 100%;margin-bottom: 0;padding: 0.3em;box-sizing: border-box;text-align: center;}#sk-container-id-1 label.sk-toggleable__label-arrow:before {content: \"▸\";float: left;margin-right: 0.25em;color: #696969;}#sk-container-id-1 label.sk-toggleable__label-arrow:hover:before {color: black;}#sk-container-id-1 div.sk-estimator:hover label.sk-toggleable__label-arrow:before {color: black;}#sk-container-id-1 div.sk-toggleable__content {max-height: 0;max-width: 0;overflow: hidden;text-align: left;background-color: #f0f8ff;}#sk-container-id-1 div.sk-toggleable__content pre {margin: 0.2em;color: black;border-radius: 0.25em;background-color: #f0f8ff;}#sk-container-id-1 input.sk-toggleable__control:checked~div.sk-toggleable__content {max-height: 200px;max-width: 100%;overflow: auto;}#sk-container-id-1 input.sk-toggleable__control:checked~label.sk-toggleable__label-arrow:before {content: \"▾\";}#sk-container-id-1 div.sk-estimator input.sk-toggleable__control:checked~label.sk-toggleable__label {background-color: #d4ebff;}#sk-container-id-1 div.sk-label input.sk-toggleable__control:checked~label.sk-toggleable__label {background-color: #d4ebff;}#sk-container-id-1 input.sk-hidden--visually {border: 0;clip: rect(1px 1px 1px 1px);clip: rect(1px, 1px, 1px, 1px);height: 1px;margin: -1px;overflow: hidden;padding: 0;position: absolute;width: 1px;}#sk-container-id-1 div.sk-estimator {font-family: monospace;background-color: #f0f8ff;border: 1px dotted black;border-radius: 0.25em;box-sizing: border-box;margin-bottom: 0.5em;}#sk-container-id-1 div.sk-estimator:hover {background-color: #d4ebff;}#sk-container-id-1 div.sk-parallel-item::after {content: \"\";width: 100%;border-bottom: 1px solid gray;flex-grow: 1;}#sk-container-id-1 div.sk-label:hover label.sk-toggleable__label {background-color: #d4ebff;}#sk-container-id-1 div.sk-serial::before {content: \"\";position: absolute;border-left: 1px solid gray;box-sizing: border-box;top: 0;bottom: 0;left: 50%;z-index: 0;}#sk-container-id-1 div.sk-serial {display: flex;flex-direction: column;align-items: center;background-color: white;padding-right: 0.2em;padding-left: 0.2em;position: relative;}#sk-container-id-1 div.sk-item {position: relative;z-index: 1;}#sk-container-id-1 div.sk-parallel {display: flex;align-items: stretch;justify-content: center;background-color: white;position: relative;}#sk-container-id-1 div.sk-item::before, #sk-container-id-1 div.sk-parallel-item::before {content: \"\";position: absolute;border-left: 1px solid gray;box-sizing: border-box;top: 0;bottom: 0;left: 50%;z-index: -1;}#sk-container-id-1 div.sk-parallel-item {display: flex;flex-direction: column;z-index: 1;position: relative;background-color: white;}#sk-container-id-1 div.sk-parallel-item:first-child::after {align-self: flex-end;width: 50%;}#sk-container-id-1 div.sk-parallel-item:last-child::after {align-self: flex-start;width: 50%;}#sk-container-id-1 div.sk-parallel-item:only-child::after {width: 0;}#sk-container-id-1 div.sk-dashed-wrapped {border: 1px dashed gray;margin: 0 0.4em 0.5em 0.4em;box-sizing: border-box;padding-bottom: 0.4em;background-color: white;}#sk-container-id-1 div.sk-label label {font-family: monospace;font-weight: bold;display: inline-block;line-height: 1.2em;}#sk-container-id-1 div.sk-label-container {text-align: center;}#sk-container-id-1 div.sk-container {/* jupyter's `normalize.less` sets `[hidden] { display: none; }` but bootstrap.min.css set `[hidden] { display: none !important; }` so we also need the `!important` here to be able to override the default hidden behavior on the sphinx rendered scikit-learn.org. See: https://github.com/scikit-learn/scikit-learn/issues/21755 */display: inline-block !important;position: relative;}#sk-container-id-1 div.sk-text-repr-fallback {display: none;}</style><div id=\"sk-container-id-1\" class=\"sk-top-container\"><div class=\"sk-text-repr-fallback\"><pre>LogisticRegression()</pre><b>In a Jupyter environment, please rerun this cell to show the HTML representation or trust the notebook. <br />On GitHub, the HTML representation is unable to render, please try loading this page with nbviewer.org.</b></div><div class=\"sk-container\" hidden><div class=\"sk-item\"><div class=\"sk-estimator sk-toggleable\"><input class=\"sk-toggleable__control sk-hidden--visually\" id=\"sk-estimator-id-1\" type=\"checkbox\" checked><label for=\"sk-estimator-id-1\" class=\"sk-toggleable__label sk-toggleable__label-arrow\">LogisticRegression</label><div class=\"sk-toggleable__content\"><pre>LogisticRegression()</pre></div></div></div></div></div>"
            ],
            "text/plain": [
              "LogisticRegression()"
            ]
          },
          "execution_count": 12,
          "metadata": {},
          "output_type": "execute_result"
        }
      ],
      "source": [
        "from sklearn.naive_bayes import MultinomialNB\n",
        "from sklearn.linear_model import LogisticRegression\n",
        "classifier_cv = MultinomialNB()\n",
        "classifier_tfidf = MultinomialNB()\n",
        "ls_classifier = LogisticRegression()\n",
        "classifier_cv.fit(X_train_cv, y_train_cv)\n",
        "classifier_tfidf.fit(X_train_tfidf, y_train_tfidf)\n",
        "ls_classifier.fit(X_train_cv, y_train_cv)"
      ]
    },
    {
      "cell_type": "code",
      "execution_count": null,
      "id": "413a76b5",
      "metadata": {
        "id": "413a76b5"
      },
      "outputs": [],
      "source": [
        "y_pred_cv = classifier_cv.predict(X_test_cv)\n",
        "y_pred_tfidf = classifier_tfidf.predict(X_test_tfidf)\n",
        "y_pred_ls = ls_classifier.predict(X_test_cv)"
      ]
    },
    {
      "cell_type": "code",
      "execution_count": null,
      "id": "8a77d092",
      "metadata": {
        "id": "8a77d092",
        "outputId": "2604ab14-3170-489a-9c4c-7f4dffa3f0fa"
      },
      "outputs": [
        {
          "name": "stdout",
          "output_type": "stream",
          "text": [
            "MNB CV Accuracy: 0.9376712328767123\n",
            "[[422  15  12]\n",
            " [ 20 367  12]\n",
            " [ 23   9 580]]\n",
            "MNB TFID Accuracy: 0.9178082191780822\n",
            "[[437  18  29]\n",
            " [ 15 410  28]\n",
            " [ 16  14 493]]\n",
            "Logistic Accuracy: 0.9746575342465753\n",
            "[[434   8   7]\n",
            " [  5 390   4]\n",
            " [  6   7 599]]\n"
          ]
        }
      ],
      "source": [
        "from sklearn.metrics import confusion_matrix, accuracy_score\n",
        "score_cv = accuracy_score(y_test_cv, y_pred_cv)\n",
        "print(f\"MNB CV Accuracy: {score_cv}\")\n",
        "cm_cv = confusion_matrix(y_test_cv, y_pred_cv)\n",
        "print(cm_cv)\n",
        "\n",
        "score_tfidf = accuracy_score(y_test_tfidf, y_pred_tfidf)\n",
        "print(f\"MNB TFID Accuracy: {score_tfidf}\")\n",
        "cm_tfidf = confusion_matrix(y_test_tfidf, y_pred_tfidf)\n",
        "print(cm_tfidf)\n",
        "\n",
        "score_ls = accuracy_score(y_test_cv, y_pred_ls)\n",
        "print(f\"Logistic Accuracy: {score_ls}\")\n",
        "cm_ls = confusion_matrix(y_test_cv, y_pred_ls)\n",
        "print(cm_ls)"
      ]
    },
    {
      "cell_type": "code",
      "execution_count": null,
      "id": "70d5f7c8",
      "metadata": {
        "id": "70d5f7c8"
      },
      "outputs": [],
      "source": [
        "import pickle\n",
        "\n",
        "pickle.dump(ls_classifier, open(\"nakmodel.pkl\", \"wb\"))\n",
        "pickle.dump(cv, open(\"cv.pkl\", \"wb\"))\n",
        "pickle.dump(label_enc, open(\"encoder.pkl\", \"wb\"))"
      ]
    },
    {
      "cell_type": "code",
      "execution_count": null,
      "id": "4e551a38",
      "metadata": {
        "id": "4e551a38"
      },
      "outputs": [],
      "source": [
        "cv_unpickled = pickle.load(open(\"cv.pkl\", \"rb\"))\n",
        "model_unpickled = pickle.load(open(\"nakmodel.pkl\", \"rb\"))\n",
        "le_unpickled = pickle.load(open(\"encoder.pkl\", \"rb\"))"
      ]
    },
    {
      "cell_type": "code",
      "execution_count": null,
      "id": "f36bb562",
      "metadata": {
        "id": "f36bb562"
      },
      "outputs": [],
      "source": [
        "def clean(t):\n",
        "    t = t.lower()\n",
        "    temp = t.split()\n",
        "    temp = [lemmatizer.lemmatize(word) for word in temp if word not in sw]\n",
        "    t = \" \".join(temp)\n",
        "    return t\n",
        "\n",
        "def encode(text, cv):\n",
        "    encoded_text = cv_unpickled.transform(list([text])).toarray()\n",
        "    return encoded_text\n",
        "\n",
        "def decode(result, label_encoder):\n",
        "    decoded_result = le_unpickled.inverse_transform(result)[0]\n",
        "    return decoded_result"
      ]
    },
    {
      "cell_type": "code",
      "execution_count": null,
      "id": "20fca19e",
      "metadata": {
        "id": "20fca19e",
        "outputId": "7ca4bdfe-ae2a-4aed-e8e5-c56d209c98e4"
      },
      "outputs": [
        {
          "name": "stdout",
          "output_type": "stream",
          "text": [
            "Brilliant! I can't wait to hear the news about this change!\n",
            "Auditory \n",
            "\n",
            "Chill out guys, nothing's gonna change, we have to study hard to succeed\n",
            "Kinesthetic \n",
            "\n",
            "Can you imagine how this idea's gonna change the education system!\n",
            "Visual \n",
            "\n",
            "I like to try out things to understand how it works, 'experiencing' is my power to learn\n",
            "Kinesthetic \n",
            "\n",
            "All what we do is visualizing how things work and imagine new possibilities\n",
            "Visual \n",
            "\n",
            "I hear the wind call my name, the sound that leads me home again\n",
            "Auditory \n",
            "\n"
          ]
        }
      ],
      "source": [
        "sentences = [\n",
        "             \"Brilliant! I can't wait to hear the news about this change!\", # Auditory\n",
        "             \"Chill out guys, nothing's gonna change, we have to study hard to succeed\", # Kinesthetic\n",
        "             \"Can you imagine how this idea's gonna change the education system!\", # Visual\n",
        "             \"I like to try out things to understand how it works, 'experiencing' is my power to learn\", #Kinesthetics\n",
        "             \"All what we do is visualizing how things work and imagine new possibilities\", #Visual\n",
        "             \"I hear the wind call my name, the sound that leads me home again\", #Auditory\n",
        "            ]\n",
        "\n",
        "\n",
        "\n",
        "for sentence in sentences:\n",
        "    print(sentence)\n",
        "    sentence = clean(sentence)\n",
        "    encoded = encode(sentence, cv_unpickled)\n",
        "    pred = model_unpickled.predict(encoded)\n",
        "    result = decode(pred, label_enc)\n",
        "    print(f\"{result} \\n\")"
      ]
    },
    {
      "cell_type": "code",
      "execution_count": null,
      "id": "5e7fad4d",
      "metadata": {
        "id": "5e7fad4d"
      },
      "outputs": [],
      "source": []
    }
  ],
  "metadata": {
    "kernelspec": {
      "display_name": "Python 3 (ipykernel)",
      "language": "python",
      "name": "python3"
    },
    "language_info": {
      "codemirror_mode": {
        "name": "ipython",
        "version": 3
      },
      "file_extension": ".py",
      "mimetype": "text/x-python",
      "name": "python",
      "nbconvert_exporter": "python",
      "pygments_lexer": "ipython3",
      "version": "3.10.9"
    },
    "colab": {
      "provenance": []
    }
  },
  "nbformat": 4,
  "nbformat_minor": 5
}